{
 "cells": [
  {
   "cell_type": "markdown",
   "metadata": {},
   "source": [
    "# Document 1 - Task overview\n",
    "Market sentiment refers to the general outlook or attitude of market participants toward a particular financial market. The optimism or pessimism of the market participants is most evident in the overall price trends (Corporate Finance Institute, n.d.). This sentiment drives demand for a specific asset, given demand is an important input for price, it is important to understand the sentiment to understand what asset is good to purchase in a given market. Market sentiment is usually measured through the use of indexes that are based on tracking numerical metrics based off the price of an asset. Some of these metrics include CBOE Volatility Index, Moving averages and Bullish percent index (Price, 2021).  \n",
    "\n",
    "The issue with these sentiment measures is that it does not identify why the sentiment for a given asset is bullish or bearish. Understanding why the market is bullish is important to identify the characteristics about an asset that make it particularly attractive to prospective buyers. This information could then assist market participants in making improved decisions about asset buying and selling. This issue is particularly important when considering the real estate market. This market is made up of many different assets with various characteristics such as number of bedrooms, number of bathrooms, if there is a driveway and whether the property has a backyard. There are also other “soft” characteristics such as whether a property is north facing or south facing, the layout of the kitchen or the location of the asset. Given the infinite combinations of property attributes, it is difficult for a market participant to fully understand what asset presents good value to purchase. This means that using more granular sentiment analysis to assess attributes that could be useful in assisting participants understand why a given asset is more valuable than others. This information could then be used to identify assets that present good value for purchase.  \n",
    "\n",
    "The intention of this project is to utilise Natural Language Processing (NLP) to assess the sentiment around key characteristics of real estate assets. This was completed by developing prototype methodologies to scrape data from both real estate sales websites and property forums. Using a bespoke webscraper, real estate listing natural text description data was scraped and then processed using the NLTK python package. Once the data was processed, K means clustering was then used to identify keywords within those descriptions that would best represent those clusters. Comment data was then extracted from a property chat forum and sentences containing those keywords were filtered. A sentiment analysis was then run on these sentences using the VADER python package to identify the sentiment associated with these keywords. The hope is that this prototype can be used to further develop tools to assist in the review of property listings to better inform customers of property that represents the best value for purchase.\n"
   ]
  },
  {
   "cell_type": "markdown",
   "metadata": {},
   "source": [
    "## References\n",
    "* Corporate Finance Institute. (n.d.). What is Market Sentiment? Retrieved from Corporate Finance Institute: https://corporatefinanceinstitute.com/resources/knowledge/trading-investing/market-sentiment/\n",
    "* Price, M. (2021, 11 20). What Is Market Sentiment and How Is It Measured? Retrieved from The Motley Fool: https://www.fool.com/investing/how-to-invest/stocks/market-sentiment/\n",
    "\n"
   ]
  },
  {
   "cell_type": "code",
   "execution_count": null,
   "metadata": {},
   "outputs": [],
   "source": []
  }
 ],
 "metadata": {
  "kernelspec": {
   "display_name": "Python 3",
   "language": "python",
   "name": "python3"
  },
  "language_info": {
   "codemirror_mode": {
    "name": "ipython",
    "version": 3
   },
   "file_extension": ".py",
   "mimetype": "text/x-python",
   "name": "python",
   "nbconvert_exporter": "python",
   "pygments_lexer": "ipython3",
   "version": "3.8.3"
  }
 },
 "nbformat": 4,
 "nbformat_minor": 4
}
